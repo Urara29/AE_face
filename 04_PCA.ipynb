{
  "nbformat": 4,
  "nbformat_minor": 0,
  "metadata": {
    "colab": {
      "provenance": [],
      "include_colab_link": true
    },
    "kernelspec": {
      "name": "python3",
      "display_name": "Python 3"
    }
  },
  "cells": [
    {
      "cell_type": "markdown",
      "metadata": {
        "id": "view-in-github",
        "colab_type": "text"
      },
      "source": [
        "<a href=\"https://colab.research.google.com/github/Urara29/AE_face/blob/main/04_PCA.ipynb\" target=\"_parent\"><img src=\"https://colab.research.google.com/assets/colab-badge.svg\" alt=\"Open In Colab\"/></a>"
      ]
    },
    {
      "cell_type": "code",
      "metadata": {
        "id": "WYUViTq1Oc-q",
        "colab": {
          "base_uri": "https://localhost:8080/",
          "height": 78
        },
        "outputId": "f3825d55-189e-49cb-98b9-35dd7ed9e81d"
      },
      "source": [
        "from google.colab import files\n",
        "uploaded = files.upload()"
      ],
      "execution_count": 39,
      "outputs": [
        {
          "output_type": "display_data",
          "data": {
            "text/plain": [
              "<IPython.core.display.HTML object>"
            ],
            "text/html": [
              "\n",
              "     <input type=\"file\" id=\"files-839a7ada-f5fb-4a06-ae50-a30544c5be79\" name=\"files[]\" multiple disabled\n",
              "        style=\"border:none\" />\n",
              "     <output id=\"result-839a7ada-f5fb-4a06-ae50-a30544c5be79\">\n",
              "      Upload widget is only available when the cell has been executed in the\n",
              "      current browser session. Please rerun this cell to enable.\n",
              "      </output>\n",
              "      <script>// Copyright 2017 Google LLC\n",
              "//\n",
              "// Licensed under the Apache License, Version 2.0 (the \"License\");\n",
              "// you may not use this file except in compliance with the License.\n",
              "// You may obtain a copy of the License at\n",
              "//\n",
              "//      http://www.apache.org/licenses/LICENSE-2.0\n",
              "//\n",
              "// Unless required by applicable law or agreed to in writing, software\n",
              "// distributed under the License is distributed on an \"AS IS\" BASIS,\n",
              "// WITHOUT WARRANTIES OR CONDITIONS OF ANY KIND, either express or implied.\n",
              "// See the License for the specific language governing permissions and\n",
              "// limitations under the License.\n",
              "\n",
              "/**\n",
              " * @fileoverview Helpers for google.colab Python module.\n",
              " */\n",
              "(function(scope) {\n",
              "function span(text, styleAttributes = {}) {\n",
              "  const element = document.createElement('span');\n",
              "  element.textContent = text;\n",
              "  for (const key of Object.keys(styleAttributes)) {\n",
              "    element.style[key] = styleAttributes[key];\n",
              "  }\n",
              "  return element;\n",
              "}\n",
              "\n",
              "// Max number of bytes which will be uploaded at a time.\n",
              "const MAX_PAYLOAD_SIZE = 100 * 1024;\n",
              "\n",
              "function _uploadFiles(inputId, outputId) {\n",
              "  const steps = uploadFilesStep(inputId, outputId);\n",
              "  const outputElement = document.getElementById(outputId);\n",
              "  // Cache steps on the outputElement to make it available for the next call\n",
              "  // to uploadFilesContinue from Python.\n",
              "  outputElement.steps = steps;\n",
              "\n",
              "  return _uploadFilesContinue(outputId);\n",
              "}\n",
              "\n",
              "// This is roughly an async generator (not supported in the browser yet),\n",
              "// where there are multiple asynchronous steps and the Python side is going\n",
              "// to poll for completion of each step.\n",
              "// This uses a Promise to block the python side on completion of each step,\n",
              "// then passes the result of the previous step as the input to the next step.\n",
              "function _uploadFilesContinue(outputId) {\n",
              "  const outputElement = document.getElementById(outputId);\n",
              "  const steps = outputElement.steps;\n",
              "\n",
              "  const next = steps.next(outputElement.lastPromiseValue);\n",
              "  return Promise.resolve(next.value.promise).then((value) => {\n",
              "    // Cache the last promise value to make it available to the next\n",
              "    // step of the generator.\n",
              "    outputElement.lastPromiseValue = value;\n",
              "    return next.value.response;\n",
              "  });\n",
              "}\n",
              "\n",
              "/**\n",
              " * Generator function which is called between each async step of the upload\n",
              " * process.\n",
              " * @param {string} inputId Element ID of the input file picker element.\n",
              " * @param {string} outputId Element ID of the output display.\n",
              " * @return {!Iterable<!Object>} Iterable of next steps.\n",
              " */\n",
              "function* uploadFilesStep(inputId, outputId) {\n",
              "  const inputElement = document.getElementById(inputId);\n",
              "  inputElement.disabled = false;\n",
              "\n",
              "  const outputElement = document.getElementById(outputId);\n",
              "  outputElement.innerHTML = '';\n",
              "\n",
              "  const pickedPromise = new Promise((resolve) => {\n",
              "    inputElement.addEventListener('change', (e) => {\n",
              "      resolve(e.target.files);\n",
              "    });\n",
              "  });\n",
              "\n",
              "  const cancel = document.createElement('button');\n",
              "  inputElement.parentElement.appendChild(cancel);\n",
              "  cancel.textContent = 'Cancel upload';\n",
              "  const cancelPromise = new Promise((resolve) => {\n",
              "    cancel.onclick = () => {\n",
              "      resolve(null);\n",
              "    };\n",
              "  });\n",
              "\n",
              "  // Wait for the user to pick the files.\n",
              "  const files = yield {\n",
              "    promise: Promise.race([pickedPromise, cancelPromise]),\n",
              "    response: {\n",
              "      action: 'starting',\n",
              "    }\n",
              "  };\n",
              "\n",
              "  cancel.remove();\n",
              "\n",
              "  // Disable the input element since further picks are not allowed.\n",
              "  inputElement.disabled = true;\n",
              "\n",
              "  if (!files) {\n",
              "    return {\n",
              "      response: {\n",
              "        action: 'complete',\n",
              "      }\n",
              "    };\n",
              "  }\n",
              "\n",
              "  for (const file of files) {\n",
              "    const li = document.createElement('li');\n",
              "    li.append(span(file.name, {fontWeight: 'bold'}));\n",
              "    li.append(span(\n",
              "        `(${file.type || 'n/a'}) - ${file.size} bytes, ` +\n",
              "        `last modified: ${\n",
              "            file.lastModifiedDate ? file.lastModifiedDate.toLocaleDateString() :\n",
              "                                    'n/a'} - `));\n",
              "    const percent = span('0% done');\n",
              "    li.appendChild(percent);\n",
              "\n",
              "    outputElement.appendChild(li);\n",
              "\n",
              "    const fileDataPromise = new Promise((resolve) => {\n",
              "      const reader = new FileReader();\n",
              "      reader.onload = (e) => {\n",
              "        resolve(e.target.result);\n",
              "      };\n",
              "      reader.readAsArrayBuffer(file);\n",
              "    });\n",
              "    // Wait for the data to be ready.\n",
              "    let fileData = yield {\n",
              "      promise: fileDataPromise,\n",
              "      response: {\n",
              "        action: 'continue',\n",
              "      }\n",
              "    };\n",
              "\n",
              "    // Use a chunked sending to avoid message size limits. See b/62115660.\n",
              "    let position = 0;\n",
              "    do {\n",
              "      const length = Math.min(fileData.byteLength - position, MAX_PAYLOAD_SIZE);\n",
              "      const chunk = new Uint8Array(fileData, position, length);\n",
              "      position += length;\n",
              "\n",
              "      const base64 = btoa(String.fromCharCode.apply(null, chunk));\n",
              "      yield {\n",
              "        response: {\n",
              "          action: 'append',\n",
              "          file: file.name,\n",
              "          data: base64,\n",
              "        },\n",
              "      };\n",
              "\n",
              "      let percentDone = fileData.byteLength === 0 ?\n",
              "          100 :\n",
              "          Math.round((position / fileData.byteLength) * 100);\n",
              "      percent.textContent = `${percentDone}% done`;\n",
              "\n",
              "    } while (position < fileData.byteLength);\n",
              "  }\n",
              "\n",
              "  // All done.\n",
              "  yield {\n",
              "    response: {\n",
              "      action: 'complete',\n",
              "    }\n",
              "  };\n",
              "}\n",
              "\n",
              "scope.google = scope.google || {};\n",
              "scope.google.colab = scope.google.colab || {};\n",
              "scope.google.colab._files = {\n",
              "  _uploadFiles,\n",
              "  _uploadFilesContinue,\n",
              "};\n",
              "})(self);\n",
              "</script> "
            ]
          },
          "metadata": {}
        },
        {
          "output_type": "stream",
          "name": "stdout",
          "text": [
            "Saving face_test5.csv to face_test5.csv\n"
          ]
        }
      ]
    },
    {
      "cell_type": "code",
      "metadata": {
        "id": "2A_nw2NNPPze"
      },
      "source": [
        "import numpy as np\n",
        "import pandas as pd\n",
        "import matplotlib.pyplot as plt\n",
        "from sklearn.decomposition import PCA"
      ],
      "execution_count": 2,
      "outputs": []
    },
    {
      "cell_type": "code",
      "metadata": {
        "id": "PcXKPUftO85Z"
      },
      "source": [
        "scores = pd.read_csv(\"face_test5.csv\", index_col = 0, header = 0)"
      ],
      "execution_count": 41,
      "outputs": []
    },
    {
      "cell_type": "code",
      "metadata": {
        "id": "TbxFXGsjPVpW",
        "colab": {
          "base_uri": "https://localhost:8080/"
        },
        "outputId": "cae08f9c-ddf1-44d5-9f6f-abdcbc3bd96d"
      },
      "source": [
        "scores.shape"
      ],
      "execution_count": 42,
      "outputs": [
        {
          "output_type": "execute_result",
          "data": {
            "text/plain": [
              "(146, 100)"
            ]
          },
          "metadata": {},
          "execution_count": 42
        }
      ]
    },
    {
      "cell_type": "code",
      "metadata": {
        "id": "4IPWaHFMPcnR",
        "colab": {
          "base_uri": "https://localhost:8080/",
          "height": 455
        },
        "outputId": "e8ff5f68-7449-4d33-baa0-79f33fd2a813"
      },
      "source": [
        "scores"
      ],
      "execution_count": 43,
      "outputs": [
        {
          "output_type": "execute_result",
          "data": {
            "text/plain": [
              "           1  2  3  4  5  6  7  8  9  10  ...  91  92  93  94  95  96  97  98  \\\n",
              "emo/dim                                   ...                                   \n",
              "angry      1 -1  1 -1  1  1  1  1  1  -1  ...  -1   1  -1   1   1  -1  -1  -1   \n",
              "angry      1 -1  1 -1  1  1  1  1  1  -1  ...  -1   1  -1   1   1  -1  -1  -1   \n",
              "angry      1 -1  1 -1  1  1  1  1  1  -1  ...  -1   1  -1   1   1  -1  -1  -1   \n",
              "angry      1 -1  1  1  1  1  1  1  1  -1  ...  -1   1  -1   1   1  -1  -1  -1   \n",
              "angry      1 -1  1  1  1  1  1  1  1  -1  ...  -1   1  -1   1   1  -1  -1  -1   \n",
              "...       .. .. .. .. .. .. .. .. ..  ..  ...  ..  ..  ..  ..  ..  ..  ..  ..   \n",
              "surprised  1 -1  1 -1  1  1  1  1  1  -1  ...  -1   1  -1   1   1   1  -1  -1   \n",
              "surprised  1 -1  1 -1  1  1  1  1  1  -1  ...  -1   1  -1   1   1   1  -1  -1   \n",
              "surprised  1 -1  1 -1  1  1  1  1  1  -1  ...  -1   1  -1   1   1   1  -1  -1   \n",
              "surprised  1 -1  1 -1  1  1  1  1  1  -1  ...  -1   1  -1   1   1   1  -1  -1   \n",
              "surprised  1 -1  1 -1  1  1  1  1  1  -1  ...  -1   1  -1   1   1  -1  -1  -1   \n",
              "\n",
              "           99  100  \n",
              "emo/dim             \n",
              "angry       1    1  \n",
              "angry       1    1  \n",
              "angry       1    1  \n",
              "angry       1    1  \n",
              "angry       1    1  \n",
              "...        ..  ...  \n",
              "surprised   1    1  \n",
              "surprised   1    1  \n",
              "surprised   1    1  \n",
              "surprised   1    1  \n",
              "surprised   1    1  \n",
              "\n",
              "[146 rows x 100 columns]"
            ],
            "text/html": [
              "\n",
              "  <div id=\"df-8e708132-375d-49ae-8dad-c8eac1125327\">\n",
              "    <div class=\"colab-df-container\">\n",
              "      <div>\n",
              "<style scoped>\n",
              "    .dataframe tbody tr th:only-of-type {\n",
              "        vertical-align: middle;\n",
              "    }\n",
              "\n",
              "    .dataframe tbody tr th {\n",
              "        vertical-align: top;\n",
              "    }\n",
              "\n",
              "    .dataframe thead th {\n",
              "        text-align: right;\n",
              "    }\n",
              "</style>\n",
              "<table border=\"1\" class=\"dataframe\">\n",
              "  <thead>\n",
              "    <tr style=\"text-align: right;\">\n",
              "      <th></th>\n",
              "      <th>1</th>\n",
              "      <th>2</th>\n",
              "      <th>3</th>\n",
              "      <th>4</th>\n",
              "      <th>5</th>\n",
              "      <th>6</th>\n",
              "      <th>7</th>\n",
              "      <th>8</th>\n",
              "      <th>9</th>\n",
              "      <th>10</th>\n",
              "      <th>...</th>\n",
              "      <th>91</th>\n",
              "      <th>92</th>\n",
              "      <th>93</th>\n",
              "      <th>94</th>\n",
              "      <th>95</th>\n",
              "      <th>96</th>\n",
              "      <th>97</th>\n",
              "      <th>98</th>\n",
              "      <th>99</th>\n",
              "      <th>100</th>\n",
              "    </tr>\n",
              "    <tr>\n",
              "      <th>emo/dim</th>\n",
              "      <th></th>\n",
              "      <th></th>\n",
              "      <th></th>\n",
              "      <th></th>\n",
              "      <th></th>\n",
              "      <th></th>\n",
              "      <th></th>\n",
              "      <th></th>\n",
              "      <th></th>\n",
              "      <th></th>\n",
              "      <th></th>\n",
              "      <th></th>\n",
              "      <th></th>\n",
              "      <th></th>\n",
              "      <th></th>\n",
              "      <th></th>\n",
              "      <th></th>\n",
              "      <th></th>\n",
              "      <th></th>\n",
              "      <th></th>\n",
              "      <th></th>\n",
              "    </tr>\n",
              "  </thead>\n",
              "  <tbody>\n",
              "    <tr>\n",
              "      <th>angry</th>\n",
              "      <td>1</td>\n",
              "      <td>-1</td>\n",
              "      <td>1</td>\n",
              "      <td>-1</td>\n",
              "      <td>1</td>\n",
              "      <td>1</td>\n",
              "      <td>1</td>\n",
              "      <td>1</td>\n",
              "      <td>1</td>\n",
              "      <td>-1</td>\n",
              "      <td>...</td>\n",
              "      <td>-1</td>\n",
              "      <td>1</td>\n",
              "      <td>-1</td>\n",
              "      <td>1</td>\n",
              "      <td>1</td>\n",
              "      <td>-1</td>\n",
              "      <td>-1</td>\n",
              "      <td>-1</td>\n",
              "      <td>1</td>\n",
              "      <td>1</td>\n",
              "    </tr>\n",
              "    <tr>\n",
              "      <th>angry</th>\n",
              "      <td>1</td>\n",
              "      <td>-1</td>\n",
              "      <td>1</td>\n",
              "      <td>-1</td>\n",
              "      <td>1</td>\n",
              "      <td>1</td>\n",
              "      <td>1</td>\n",
              "      <td>1</td>\n",
              "      <td>1</td>\n",
              "      <td>-1</td>\n",
              "      <td>...</td>\n",
              "      <td>-1</td>\n",
              "      <td>1</td>\n",
              "      <td>-1</td>\n",
              "      <td>1</td>\n",
              "      <td>1</td>\n",
              "      <td>-1</td>\n",
              "      <td>-1</td>\n",
              "      <td>-1</td>\n",
              "      <td>1</td>\n",
              "      <td>1</td>\n",
              "    </tr>\n",
              "    <tr>\n",
              "      <th>angry</th>\n",
              "      <td>1</td>\n",
              "      <td>-1</td>\n",
              "      <td>1</td>\n",
              "      <td>-1</td>\n",
              "      <td>1</td>\n",
              "      <td>1</td>\n",
              "      <td>1</td>\n",
              "      <td>1</td>\n",
              "      <td>1</td>\n",
              "      <td>-1</td>\n",
              "      <td>...</td>\n",
              "      <td>-1</td>\n",
              "      <td>1</td>\n",
              "      <td>-1</td>\n",
              "      <td>1</td>\n",
              "      <td>1</td>\n",
              "      <td>-1</td>\n",
              "      <td>-1</td>\n",
              "      <td>-1</td>\n",
              "      <td>1</td>\n",
              "      <td>1</td>\n",
              "    </tr>\n",
              "    <tr>\n",
              "      <th>angry</th>\n",
              "      <td>1</td>\n",
              "      <td>-1</td>\n",
              "      <td>1</td>\n",
              "      <td>1</td>\n",
              "      <td>1</td>\n",
              "      <td>1</td>\n",
              "      <td>1</td>\n",
              "      <td>1</td>\n",
              "      <td>1</td>\n",
              "      <td>-1</td>\n",
              "      <td>...</td>\n",
              "      <td>-1</td>\n",
              "      <td>1</td>\n",
              "      <td>-1</td>\n",
              "      <td>1</td>\n",
              "      <td>1</td>\n",
              "      <td>-1</td>\n",
              "      <td>-1</td>\n",
              "      <td>-1</td>\n",
              "      <td>1</td>\n",
              "      <td>1</td>\n",
              "    </tr>\n",
              "    <tr>\n",
              "      <th>angry</th>\n",
              "      <td>1</td>\n",
              "      <td>-1</td>\n",
              "      <td>1</td>\n",
              "      <td>1</td>\n",
              "      <td>1</td>\n",
              "      <td>1</td>\n",
              "      <td>1</td>\n",
              "      <td>1</td>\n",
              "      <td>1</td>\n",
              "      <td>-1</td>\n",
              "      <td>...</td>\n",
              "      <td>-1</td>\n",
              "      <td>1</td>\n",
              "      <td>-1</td>\n",
              "      <td>1</td>\n",
              "      <td>1</td>\n",
              "      <td>-1</td>\n",
              "      <td>-1</td>\n",
              "      <td>-1</td>\n",
              "      <td>1</td>\n",
              "      <td>1</td>\n",
              "    </tr>\n",
              "    <tr>\n",
              "      <th>...</th>\n",
              "      <td>...</td>\n",
              "      <td>...</td>\n",
              "      <td>...</td>\n",
              "      <td>...</td>\n",
              "      <td>...</td>\n",
              "      <td>...</td>\n",
              "      <td>...</td>\n",
              "      <td>...</td>\n",
              "      <td>...</td>\n",
              "      <td>...</td>\n",
              "      <td>...</td>\n",
              "      <td>...</td>\n",
              "      <td>...</td>\n",
              "      <td>...</td>\n",
              "      <td>...</td>\n",
              "      <td>...</td>\n",
              "      <td>...</td>\n",
              "      <td>...</td>\n",
              "      <td>...</td>\n",
              "      <td>...</td>\n",
              "      <td>...</td>\n",
              "    </tr>\n",
              "    <tr>\n",
              "      <th>surprised</th>\n",
              "      <td>1</td>\n",
              "      <td>-1</td>\n",
              "      <td>1</td>\n",
              "      <td>-1</td>\n",
              "      <td>1</td>\n",
              "      <td>1</td>\n",
              "      <td>1</td>\n",
              "      <td>1</td>\n",
              "      <td>1</td>\n",
              "      <td>-1</td>\n",
              "      <td>...</td>\n",
              "      <td>-1</td>\n",
              "      <td>1</td>\n",
              "      <td>-1</td>\n",
              "      <td>1</td>\n",
              "      <td>1</td>\n",
              "      <td>1</td>\n",
              "      <td>-1</td>\n",
              "      <td>-1</td>\n",
              "      <td>1</td>\n",
              "      <td>1</td>\n",
              "    </tr>\n",
              "    <tr>\n",
              "      <th>surprised</th>\n",
              "      <td>1</td>\n",
              "      <td>-1</td>\n",
              "      <td>1</td>\n",
              "      <td>-1</td>\n",
              "      <td>1</td>\n",
              "      <td>1</td>\n",
              "      <td>1</td>\n",
              "      <td>1</td>\n",
              "      <td>1</td>\n",
              "      <td>-1</td>\n",
              "      <td>...</td>\n",
              "      <td>-1</td>\n",
              "      <td>1</td>\n",
              "      <td>-1</td>\n",
              "      <td>1</td>\n",
              "      <td>1</td>\n",
              "      <td>1</td>\n",
              "      <td>-1</td>\n",
              "      <td>-1</td>\n",
              "      <td>1</td>\n",
              "      <td>1</td>\n",
              "    </tr>\n",
              "    <tr>\n",
              "      <th>surprised</th>\n",
              "      <td>1</td>\n",
              "      <td>-1</td>\n",
              "      <td>1</td>\n",
              "      <td>-1</td>\n",
              "      <td>1</td>\n",
              "      <td>1</td>\n",
              "      <td>1</td>\n",
              "      <td>1</td>\n",
              "      <td>1</td>\n",
              "      <td>-1</td>\n",
              "      <td>...</td>\n",
              "      <td>-1</td>\n",
              "      <td>1</td>\n",
              "      <td>-1</td>\n",
              "      <td>1</td>\n",
              "      <td>1</td>\n",
              "      <td>1</td>\n",
              "      <td>-1</td>\n",
              "      <td>-1</td>\n",
              "      <td>1</td>\n",
              "      <td>1</td>\n",
              "    </tr>\n",
              "    <tr>\n",
              "      <th>surprised</th>\n",
              "      <td>1</td>\n",
              "      <td>-1</td>\n",
              "      <td>1</td>\n",
              "      <td>-1</td>\n",
              "      <td>1</td>\n",
              "      <td>1</td>\n",
              "      <td>1</td>\n",
              "      <td>1</td>\n",
              "      <td>1</td>\n",
              "      <td>-1</td>\n",
              "      <td>...</td>\n",
              "      <td>-1</td>\n",
              "      <td>1</td>\n",
              "      <td>-1</td>\n",
              "      <td>1</td>\n",
              "      <td>1</td>\n",
              "      <td>1</td>\n",
              "      <td>-1</td>\n",
              "      <td>-1</td>\n",
              "      <td>1</td>\n",
              "      <td>1</td>\n",
              "    </tr>\n",
              "    <tr>\n",
              "      <th>surprised</th>\n",
              "      <td>1</td>\n",
              "      <td>-1</td>\n",
              "      <td>1</td>\n",
              "      <td>-1</td>\n",
              "      <td>1</td>\n",
              "      <td>1</td>\n",
              "      <td>1</td>\n",
              "      <td>1</td>\n",
              "      <td>1</td>\n",
              "      <td>-1</td>\n",
              "      <td>...</td>\n",
              "      <td>-1</td>\n",
              "      <td>1</td>\n",
              "      <td>-1</td>\n",
              "      <td>1</td>\n",
              "      <td>1</td>\n",
              "      <td>-1</td>\n",
              "      <td>-1</td>\n",
              "      <td>-1</td>\n",
              "      <td>1</td>\n",
              "      <td>1</td>\n",
              "    </tr>\n",
              "  </tbody>\n",
              "</table>\n",
              "<p>146 rows × 100 columns</p>\n",
              "</div>\n",
              "      <button class=\"colab-df-convert\" onclick=\"convertToInteractive('df-8e708132-375d-49ae-8dad-c8eac1125327')\"\n",
              "              title=\"Convert this dataframe to an interactive table.\"\n",
              "              style=\"display:none;\">\n",
              "        \n",
              "  <svg xmlns=\"http://www.w3.org/2000/svg\" height=\"24px\"viewBox=\"0 0 24 24\"\n",
              "       width=\"24px\">\n",
              "    <path d=\"M0 0h24v24H0V0z\" fill=\"none\"/>\n",
              "    <path d=\"M18.56 5.44l.94 2.06.94-2.06 2.06-.94-2.06-.94-.94-2.06-.94 2.06-2.06.94zm-11 1L8.5 8.5l.94-2.06 2.06-.94-2.06-.94L8.5 2.5l-.94 2.06-2.06.94zm10 10l.94 2.06.94-2.06 2.06-.94-2.06-.94-.94-2.06-.94 2.06-2.06.94z\"/><path d=\"M17.41 7.96l-1.37-1.37c-.4-.4-.92-.59-1.43-.59-.52 0-1.04.2-1.43.59L10.3 9.45l-7.72 7.72c-.78.78-.78 2.05 0 2.83L4 21.41c.39.39.9.59 1.41.59.51 0 1.02-.2 1.41-.59l7.78-7.78 2.81-2.81c.8-.78.8-2.07 0-2.86zM5.41 20L4 18.59l7.72-7.72 1.47 1.35L5.41 20z\"/>\n",
              "  </svg>\n",
              "      </button>\n",
              "      \n",
              "  <style>\n",
              "    .colab-df-container {\n",
              "      display:flex;\n",
              "      flex-wrap:wrap;\n",
              "      gap: 12px;\n",
              "    }\n",
              "\n",
              "    .colab-df-convert {\n",
              "      background-color: #E8F0FE;\n",
              "      border: none;\n",
              "      border-radius: 50%;\n",
              "      cursor: pointer;\n",
              "      display: none;\n",
              "      fill: #1967D2;\n",
              "      height: 32px;\n",
              "      padding: 0 0 0 0;\n",
              "      width: 32px;\n",
              "    }\n",
              "\n",
              "    .colab-df-convert:hover {\n",
              "      background-color: #E2EBFA;\n",
              "      box-shadow: 0px 1px 2px rgba(60, 64, 67, 0.3), 0px 1px 3px 1px rgba(60, 64, 67, 0.15);\n",
              "      fill: #174EA6;\n",
              "    }\n",
              "\n",
              "    [theme=dark] .colab-df-convert {\n",
              "      background-color: #3B4455;\n",
              "      fill: #D2E3FC;\n",
              "    }\n",
              "\n",
              "    [theme=dark] .colab-df-convert:hover {\n",
              "      background-color: #434B5C;\n",
              "      box-shadow: 0px 1px 3px 1px rgba(0, 0, 0, 0.15);\n",
              "      filter: drop-shadow(0px 1px 2px rgba(0, 0, 0, 0.3));\n",
              "      fill: #FFFFFF;\n",
              "    }\n",
              "  </style>\n",
              "\n",
              "      <script>\n",
              "        const buttonEl =\n",
              "          document.querySelector('#df-8e708132-375d-49ae-8dad-c8eac1125327 button.colab-df-convert');\n",
              "        buttonEl.style.display =\n",
              "          google.colab.kernel.accessAllowed ? 'block' : 'none';\n",
              "\n",
              "        async function convertToInteractive(key) {\n",
              "          const element = document.querySelector('#df-8e708132-375d-49ae-8dad-c8eac1125327');\n",
              "          const dataTable =\n",
              "            await google.colab.kernel.invokeFunction('convertToInteractive',\n",
              "                                                     [key], {});\n",
              "          if (!dataTable) return;\n",
              "\n",
              "          const docLinkHtml = 'Like what you see? Visit the ' +\n",
              "            '<a target=\"_blank\" href=https://colab.research.google.com/notebooks/data_table.ipynb>data table notebook</a>'\n",
              "            + ' to learn more about interactive tables.';\n",
              "          element.innerHTML = '';\n",
              "          dataTable['output_type'] = 'display_data';\n",
              "          await google.colab.output.renderOutput(dataTable, element);\n",
              "          const docLink = document.createElement('div');\n",
              "          docLink.innerHTML = docLinkHtml;\n",
              "          element.appendChild(docLink);\n",
              "        }\n",
              "      </script>\n",
              "    </div>\n",
              "  </div>\n",
              "  "
            ]
          },
          "metadata": {},
          "execution_count": 43
        }
      ]
    },
    {
      "cell_type": "code",
      "metadata": {
        "id": "YVIzWC9PPdbY"
      },
      "source": [
        "pca = PCA(n_components = 4, whiten = False)"
      ],
      "execution_count": 52,
      "outputs": []
    },
    {
      "cell_type": "code",
      "metadata": {
        "id": "gHFF59SAP5h5",
        "colab": {
          "base_uri": "https://localhost:8080/"
        },
        "outputId": "48284320-8f23-4167-f953-0ddcd275c388"
      },
      "source": [
        "pca.fit(scores)"
      ],
      "execution_count": 53,
      "outputs": [
        {
          "output_type": "execute_result",
          "data": {
            "text/plain": [
              "PCA(n_components=4)"
            ]
          },
          "metadata": {},
          "execution_count": 53
        }
      ]
    },
    {
      "cell_type": "code",
      "source": [
        "#np.where( np.isnan(scores) )"
      ],
      "metadata": {
        "id": "2RjGyWdHqN7B"
      },
      "execution_count": 14,
      "outputs": []
    },
    {
      "cell_type": "code",
      "metadata": {
        "id": "WCYRWE7mQpHq",
        "colab": {
          "base_uri": "https://localhost:8080/"
        },
        "outputId": "73b9b603-3b33-4cd3-f1df-6a65c98ed12a"
      },
      "source": [
        "pca.n_components_"
      ],
      "execution_count": 54,
      "outputs": [
        {
          "output_type": "execute_result",
          "data": {
            "text/plain": [
              "4"
            ]
          },
          "metadata": {},
          "execution_count": 54
        }
      ]
    },
    {
      "cell_type": "code",
      "metadata": {
        "id": "3ZG5JXVzQqqn",
        "colab": {
          "base_uri": "https://localhost:8080/"
        },
        "outputId": "4eedec87-41ed-4261-b25a-4501ec0ef6b6"
      },
      "source": [
        "pca.explained_variance_ratio_"
      ],
      "execution_count": 55,
      "outputs": [
        {
          "output_type": "execute_result",
          "data": {
            "text/plain": [
              "array([0.28425655, 0.18400928, 0.12327558, 0.10907061])"
            ]
          },
          "metadata": {},
          "execution_count": 55
        }
      ]
    },
    {
      "cell_type": "code",
      "source": [
        "np.cumsum(pca.explained_variance_ratio_)"
      ],
      "metadata": {
        "colab": {
          "base_uri": "https://localhost:8080/"
        },
        "id": "ZWsLSQBlz2tR",
        "outputId": "acf5b408-4193-4f9b-a3fc-8e20fe43329b"
      },
      "execution_count": 56,
      "outputs": [
        {
          "output_type": "execute_result",
          "data": {
            "text/plain": [
              "array([0.28425655, 0.46826583, 0.5915414 , 0.70061201])"
            ]
          },
          "metadata": {},
          "execution_count": 56
        }
      ]
    },
    {
      "cell_type": "code",
      "metadata": {
        "id": "VTT-zb02Qtxv",
        "colab": {
          "base_uri": "https://localhost:8080/"
        },
        "outputId": "2853c9b5-5433-400d-8969-3f0711b01141"
      },
      "source": [
        "pca.components_"
      ],
      "execution_count": 57,
      "outputs": [
        {
          "output_type": "execute_result",
          "data": {
            "text/plain": [
              "array([[-4.59996812e-18,  1.11022302e-16, -2.22044605e-16,\n",
              "         1.57137312e-01, -0.00000000e+00,  3.46944695e-18,\n",
              "        -0.00000000e+00, -0.00000000e+00, -0.00000000e+00,\n",
              "        -0.00000000e+00, -0.00000000e+00, -0.00000000e+00,\n",
              "        -0.00000000e+00, -0.00000000e+00, -1.17321255e-01,\n",
              "        -0.00000000e+00, -0.00000000e+00, -0.00000000e+00,\n",
              "        -0.00000000e+00, -0.00000000e+00, -0.00000000e+00,\n",
              "        -0.00000000e+00, -0.00000000e+00,  8.32666443e-02,\n",
              "        -0.00000000e+00, -0.00000000e+00, -0.00000000e+00,\n",
              "         2.27032383e-01, -0.00000000e+00, -6.33896958e-01,\n",
              "        -0.00000000e+00, -0.00000000e+00, -0.00000000e+00,\n",
              "        -2.34080802e-01, -0.00000000e+00,  5.96912939e-02,\n",
              "        -0.00000000e+00, -0.00000000e+00, -0.00000000e+00,\n",
              "        -0.00000000e+00,  7.08978614e-02, -0.00000000e+00,\n",
              "        -0.00000000e+00, -2.84887597e-02, -0.00000000e+00,\n",
              "        -0.00000000e+00, -0.00000000e+00, -0.00000000e+00,\n",
              "        -0.00000000e+00, -0.00000000e+00, -0.00000000e+00,\n",
              "        -3.65268237e-01, -0.00000000e+00, -0.00000000e+00,\n",
              "        -3.98223677e-01, -0.00000000e+00,  5.84039865e-03,\n",
              "        -0.00000000e+00, -0.00000000e+00, -0.00000000e+00,\n",
              "        -0.00000000e+00, -0.00000000e+00, -0.00000000e+00,\n",
              "        -0.00000000e+00, -0.00000000e+00, -0.00000000e+00,\n",
              "        -0.00000000e+00, -0.00000000e+00, -0.00000000e+00,\n",
              "        -0.00000000e+00, -0.00000000e+00, -0.00000000e+00,\n",
              "        -0.00000000e+00, -0.00000000e+00, -0.00000000e+00,\n",
              "        -0.00000000e+00, -0.00000000e+00, -0.00000000e+00,\n",
              "        -0.00000000e+00, -0.00000000e+00, -0.00000000e+00,\n",
              "        -0.00000000e+00,  7.71543611e-02, -0.00000000e+00,\n",
              "        -0.00000000e+00, -0.00000000e+00, -0.00000000e+00,\n",
              "        -0.00000000e+00, -3.70842830e-01, -0.00000000e+00,\n",
              "        -0.00000000e+00, -0.00000000e+00, -0.00000000e+00,\n",
              "        -0.00000000e+00, -0.00000000e+00, -3.91397044e-02,\n",
              "        -0.00000000e+00, -0.00000000e+00, -0.00000000e+00,\n",
              "        -0.00000000e+00],\n",
              "       [ 1.40624852e-18,  2.77555756e-17, -2.77555756e-17,\n",
              "         1.16898186e-01, -0.00000000e+00,  2.22044605e-16,\n",
              "        -0.00000000e+00, -0.00000000e+00,  1.73472348e-18,\n",
              "        -0.00000000e+00, -0.00000000e+00, -0.00000000e+00,\n",
              "        -0.00000000e+00, -0.00000000e+00,  3.37778066e-01,\n",
              "        -0.00000000e+00, -0.00000000e+00, -0.00000000e+00,\n",
              "        -0.00000000e+00, -0.00000000e+00, -0.00000000e+00,\n",
              "        -0.00000000e+00, -0.00000000e+00,  1.85994294e-01,\n",
              "        -0.00000000e+00, -0.00000000e+00, -0.00000000e+00,\n",
              "        -1.13021167e-01, -0.00000000e+00, -5.95422126e-02,\n",
              "        -0.00000000e+00, -0.00000000e+00, -0.00000000e+00,\n",
              "        -1.69960424e-01, -0.00000000e+00, -5.18023160e-02,\n",
              "        -0.00000000e+00, -0.00000000e+00, -0.00000000e+00,\n",
              "        -0.00000000e+00,  5.47460829e-02, -0.00000000e+00,\n",
              "        -0.00000000e+00,  1.78641718e-02, -0.00000000e+00,\n",
              "        -0.00000000e+00, -0.00000000e+00, -0.00000000e+00,\n",
              "        -0.00000000e+00, -0.00000000e+00, -0.00000000e+00,\n",
              "         1.15130026e-04, -0.00000000e+00, -0.00000000e+00,\n",
              "        -1.96127337e-01, -0.00000000e+00, -1.74559572e-03,\n",
              "        -0.00000000e+00, -0.00000000e+00, -0.00000000e+00,\n",
              "        -0.00000000e+00, -0.00000000e+00, -0.00000000e+00,\n",
              "        -0.00000000e+00, -0.00000000e+00, -0.00000000e+00,\n",
              "        -0.00000000e+00, -0.00000000e+00, -0.00000000e+00,\n",
              "        -0.00000000e+00, -0.00000000e+00, -0.00000000e+00,\n",
              "        -0.00000000e+00, -0.00000000e+00, -0.00000000e+00,\n",
              "        -0.00000000e+00, -0.00000000e+00, -0.00000000e+00,\n",
              "        -0.00000000e+00, -0.00000000e+00, -0.00000000e+00,\n",
              "        -0.00000000e+00, -9.09707006e-02, -0.00000000e+00,\n",
              "        -0.00000000e+00, -0.00000000e+00, -0.00000000e+00,\n",
              "        -0.00000000e+00,  3.97115043e-01, -0.00000000e+00,\n",
              "        -0.00000000e+00, -0.00000000e+00, -0.00000000e+00,\n",
              "        -0.00000000e+00, -0.00000000e+00, -7.62886983e-01,\n",
              "        -0.00000000e+00, -0.00000000e+00, -0.00000000e+00,\n",
              "        -0.00000000e+00],\n",
              "       [-1.03902490e-17, -5.55111512e-17,  2.77555756e-17,\n",
              "        -2.34720085e-01, -0.00000000e+00,  6.93889390e-17,\n",
              "        -0.00000000e+00, -0.00000000e+00,  1.38777878e-17,\n",
              "        -0.00000000e+00, -0.00000000e+00, -0.00000000e+00,\n",
              "        -0.00000000e+00, -0.00000000e+00,  4.54156553e-01,\n",
              "        -0.00000000e+00, -0.00000000e+00, -0.00000000e+00,\n",
              "        -0.00000000e+00, -0.00000000e+00, -0.00000000e+00,\n",
              "        -0.00000000e+00, -0.00000000e+00, -2.51833660e-01,\n",
              "        -0.00000000e+00, -0.00000000e+00, -0.00000000e+00,\n",
              "         5.07637390e-01, -0.00000000e+00, -2.00361070e-01,\n",
              "        -0.00000000e+00, -0.00000000e+00, -0.00000000e+00,\n",
              "         3.27950379e-01, -0.00000000e+00,  4.50917999e-02,\n",
              "        -0.00000000e+00, -0.00000000e+00, -0.00000000e+00,\n",
              "        -0.00000000e+00,  9.61442641e-04, -0.00000000e+00,\n",
              "        -0.00000000e+00, -8.42522524e-02, -0.00000000e+00,\n",
              "        -0.00000000e+00, -0.00000000e+00, -0.00000000e+00,\n",
              "        -0.00000000e+00, -0.00000000e+00, -0.00000000e+00,\n",
              "        -3.64505279e-01, -0.00000000e+00, -0.00000000e+00,\n",
              "         2.98534639e-01, -0.00000000e+00,  1.22094294e-02,\n",
              "        -0.00000000e+00, -0.00000000e+00, -0.00000000e+00,\n",
              "        -0.00000000e+00, -0.00000000e+00, -0.00000000e+00,\n",
              "        -0.00000000e+00, -0.00000000e+00, -0.00000000e+00,\n",
              "        -0.00000000e+00, -0.00000000e+00, -0.00000000e+00,\n",
              "        -0.00000000e+00, -0.00000000e+00, -0.00000000e+00,\n",
              "        -0.00000000e+00, -0.00000000e+00, -0.00000000e+00,\n",
              "        -0.00000000e+00, -0.00000000e+00, -0.00000000e+00,\n",
              "        -0.00000000e+00, -0.00000000e+00, -0.00000000e+00,\n",
              "        -0.00000000e+00, -2.41132294e-02, -0.00000000e+00,\n",
              "        -0.00000000e+00, -0.00000000e+00, -0.00000000e+00,\n",
              "        -0.00000000e+00,  1.94794224e-01, -0.00000000e+00,\n",
              "        -0.00000000e+00, -0.00000000e+00, -0.00000000e+00,\n",
              "        -0.00000000e+00, -0.00000000e+00, -6.43523516e-03,\n",
              "        -0.00000000e+00, -0.00000000e+00, -0.00000000e+00,\n",
              "        -0.00000000e+00],\n",
              "       [-1.00234828e-17, -0.00000000e+00, -4.16333634e-17,\n",
              "         7.23377519e-02, -2.77555756e-17,  1.11022302e-16,\n",
              "        -1.11022302e-16, -0.00000000e+00, -2.77555756e-17,\n",
              "        -0.00000000e+00, -0.00000000e+00, -0.00000000e+00,\n",
              "        -0.00000000e+00, -0.00000000e+00, -4.61110054e-01,\n",
              "        -0.00000000e+00, -0.00000000e+00, -0.00000000e+00,\n",
              "        -0.00000000e+00, -0.00000000e+00, -0.00000000e+00,\n",
              "        -0.00000000e+00, -0.00000000e+00, -5.65591576e-01,\n",
              "        -0.00000000e+00, -0.00000000e+00, -0.00000000e+00,\n",
              "        -2.14732417e-01, -0.00000000e+00,  1.05155965e-01,\n",
              "        -0.00000000e+00, -0.00000000e+00, -0.00000000e+00,\n",
              "        -9.90349886e-02, -0.00000000e+00,  1.60818315e-01,\n",
              "        -0.00000000e+00, -0.00000000e+00, -0.00000000e+00,\n",
              "        -0.00000000e+00, -3.44560674e-02, -0.00000000e+00,\n",
              "        -0.00000000e+00,  3.26856317e-02, -0.00000000e+00,\n",
              "        -0.00000000e+00, -0.00000000e+00, -0.00000000e+00,\n",
              "        -0.00000000e+00, -0.00000000e+00, -0.00000000e+00,\n",
              "        -4.95443750e-01, -0.00000000e+00, -0.00000000e+00,\n",
              "         5.28728852e-03, -0.00000000e+00,  2.20910693e-02,\n",
              "        -0.00000000e+00, -0.00000000e+00, -0.00000000e+00,\n",
              "        -0.00000000e+00, -0.00000000e+00, -0.00000000e+00,\n",
              "        -0.00000000e+00, -0.00000000e+00, -0.00000000e+00,\n",
              "        -0.00000000e+00, -0.00000000e+00, -0.00000000e+00,\n",
              "        -0.00000000e+00, -0.00000000e+00, -0.00000000e+00,\n",
              "        -0.00000000e+00, -0.00000000e+00, -0.00000000e+00,\n",
              "        -0.00000000e+00, -0.00000000e+00, -0.00000000e+00,\n",
              "        -0.00000000e+00, -0.00000000e+00, -0.00000000e+00,\n",
              "        -0.00000000e+00, -1.52604808e-01, -0.00000000e+00,\n",
              "        -0.00000000e+00, -0.00000000e+00, -0.00000000e+00,\n",
              "        -0.00000000e+00,  2.82693409e-01, -0.00000000e+00,\n",
              "        -0.00000000e+00, -0.00000000e+00, -0.00000000e+00,\n",
              "        -0.00000000e+00, -0.00000000e+00, -1.34062852e-01,\n",
              "        -0.00000000e+00, -0.00000000e+00, -0.00000000e+00,\n",
              "        -0.00000000e+00]])"
            ]
          },
          "metadata": {},
          "execution_count": 57
        }
      ]
    },
    {
      "cell_type": "code",
      "metadata": {
        "id": "52VmUEynQxMp",
        "colab": {
          "base_uri": "https://localhost:8080/"
        },
        "outputId": "03e5e5a2-a089-4fca-bb45-4193b891918f"
      },
      "source": [
        "x = pca.transform(scores)\n",
        "x"
      ],
      "execution_count": 58,
      "outputs": [
        {
          "output_type": "execute_result",
          "data": {
            "text/plain": [
              "array([[-1.16910242,  0.23136041, -1.14522349, -0.97749298],\n",
              "       [-1.16910242,  0.23136041, -1.14522349, -0.97749298],\n",
              "       [ 2.35501524,  1.08827764, -1.17635435,  0.24330249],\n",
              "       [ 2.52749415,  1.21258184, -1.6477174 ,  0.45689013],\n",
              "       [ 2.52749415,  1.21258184, -1.6477174 ,  0.45689013],\n",
              "       [-1.29551152,  1.59731174,  0.97187222, -0.02180214],\n",
              "       [-2.026048  ,  1.597542  ,  0.24286166, -1.01268964],\n",
              "       [-2.026048  ,  1.597542  ,  0.24286166, -1.01268964],\n",
              "       [-1.79140549,  0.92198587, -0.66545145, -0.09046953],\n",
              "       [-1.79140549,  0.92198587, -0.66545145, -0.09046953],\n",
              "       [-1.79140549,  0.92198587, -0.66545145, -0.09046953],\n",
              "       [ 0.94861056,  0.24660995,  0.0746928 ,  0.12471923],\n",
              "       [ 0.94861056,  0.24660995,  0.0746928 ,  0.12471923],\n",
              "       [ 0.94861056,  0.24660995,  0.0746928 ,  0.12471923],\n",
              "       [-0.31918335,  0.12752552, -0.32602934,  0.33503115],\n",
              "       [-0.31918335,  0.12752552, -0.32602934,  0.33503115],\n",
              "       [-0.31918335,  0.12752552, -0.32602934,  0.33503115],\n",
              "       [-1.12799924, -1.39801818, -1.06791036, -0.92398205],\n",
              "       [-1.12799924, -1.39801818, -1.06791036, -0.92398205],\n",
              "       [-1.12799924, -1.39801818, -1.06791036, -0.92398205],\n",
              "       [-1.2274023 ,  0.54976702,  0.56722643,  2.03160112],\n",
              "       [-1.06086901,  0.92175561,  0.06355911,  0.90041797],\n",
              "       [-0.56399605, -1.77023703,  0.16476751,  1.1980886 ],\n",
              "       [-0.56399605, -1.77023703,  0.16476751,  1.1980886 ],\n",
              "       [-0.56399605, -1.77023703,  0.16476751,  1.1980886 ],\n",
              "       [ 1.40267533,  0.02056761,  1.08996758, -0.30474561],\n",
              "       [ 1.32439592, -1.50520635,  1.07709711, -0.57287131],\n",
              "       [ 1.15786263, -1.87719494,  1.58076443,  0.55831184],\n",
              "       [ 1.16803282,  0.69612375,  1.99828069, -1.22696572],\n",
              "       [-1.40374493,  0.90691655, -0.23691039, -1.89971308],\n",
              "       [-1.40374493,  0.90691655, -0.23691039, -1.89971308],\n",
              "       [-1.40374493,  0.90691655, -0.23691039, -1.89971308],\n",
              "       [ 2.52749415,  1.21258184, -1.6477174 ,  0.45689013],\n",
              "       [ 2.52749415,  1.21258184, -1.6477174 ,  0.45689013],\n",
              "       [ 2.52749415,  1.21258184, -1.6477174 ,  0.45689013],\n",
              "       [-1.29551152,  1.59731174,  0.97187222, -0.02180214],\n",
              "       [-1.29551152,  1.59731174,  0.97187222, -0.02180214],\n",
              "       [-0.18202633,  1.89833757,  1.42082082,  0.07309555],\n",
              "       [-1.21517774,  1.10369701,  0.11178557,  1.20562759],\n",
              "       [ 0.05261618,  1.22278143,  0.51250771,  0.99531566],\n",
              "       [ 1.09040629,  0.35610211,  0.07661569,  0.05580709],\n",
              "       [ 1.74505792,  0.63886462, -0.52237647,  0.11414465],\n",
              "       [ 1.74505792,  0.63886462, -0.52237647,  0.11414465],\n",
              "       [-0.31918335,  0.12752552, -0.32602934,  0.33503115],\n",
              "       [-0.31918335,  0.12752552, -0.32602934,  0.33503115],\n",
              "       [-0.31918335,  0.12752552, -0.32602934,  0.33503115],\n",
              "       [-1.12799924, -1.39801818, -1.06791036, -0.92398205],\n",
              "       [-1.12799924, -1.39801818, -1.06791036, -0.92398205],\n",
              "       [-1.12799924, -1.39801818, -1.06791036, -0.92398205],\n",
              "       [ 1.66677851, -0.88690935, -0.53524694, -0.15398106],\n",
              "       [ 1.66677851, -0.88690935, -0.53524694, -0.15398106],\n",
              "       [ 1.66677851, -0.88690935, -0.53524694, -0.15398106],\n",
              "       [-0.39746276, -1.39824844, -0.33889981,  0.06690545],\n",
              "       [-0.39746276, -1.39824844, -0.33889981,  0.06690545],\n",
              "       [-0.39746276, -1.39824844, -0.33889981,  0.06690545],\n",
              "       [ 1.40267533,  0.02056761,  1.08996758, -0.30474561],\n",
              "       [ 2.19912268,  0.41282229,  0.49289831, -0.31532019],\n",
              "       [ 1.40267533,  0.02056761,  1.08996758, -0.30474561],\n",
              "       [ 1.96448017,  1.08837842,  1.40121141, -1.23754029],\n",
              "       [ 2.1062759 ,  1.19787058,  1.4031343 , -1.30645243],\n",
              "       [ 2.1062759 ,  1.19787058,  1.4031343 , -1.30645243],\n",
              "       [ 1.96448017,  1.08837842,  1.40121141, -1.23754029],\n",
              "       [ 2.52749415,  1.21258184, -1.6477174 ,  0.45689013],\n",
              "       [ 2.66928987,  1.32207401, -1.64579452,  0.38797799],\n",
              "       [-1.37379093,  0.07153777,  0.95900175, -0.28992784],\n",
              "       [-2.026048  ,  1.597542  ,  0.24286166, -1.01268964],\n",
              "       [-2.026048  ,  1.597542  ,  0.24286166, -1.01268964],\n",
              "       [-2.026048  ,  1.597542  ,  0.24286166, -1.01268964],\n",
              "       [-1.29345714, -0.42207696,  0.0989151 ,  0.93750188],\n",
              "       [ 1.00558808,  0.2108816 ,  0.24319731,  0.05934796],\n",
              "       [-0.55382586,  0.80308165,  0.58228377, -0.58718895],\n",
              "       [-0.55382586,  0.80308165,  0.58228377, -0.58718895],\n",
              "       [-1.28436234,  0.80331191, -0.14672679, -1.57807645],\n",
              "       [-1.12799924, -1.39801818, -1.06791036, -0.92398205],\n",
              "       [-1.12799924, -1.39801818, -1.06791036, -0.92398205],\n",
              "       [-1.12799924, -1.39801818, -1.06791036, -0.92398205],\n",
              "       [-1.12799924, -1.39801818, -1.06791036, -0.92398205],\n",
              "       [ 1.14673093, -0.86537857,  2.15391472, -1.56046268],\n",
              "       [ 1.14673093, -0.86537857,  2.15391472, -1.56046268],\n",
              "       [-1.13914842, -0.60401836,  0.05068864,  0.63229227],\n",
              "       [ 0.63568864, -0.60360789,  0.97013544, -1.06562659],\n",
              "       [ 0.63568864, -0.60360789,  0.97013544, -1.06562659],\n",
              "       [-0.39746276, -1.39824844, -0.33889981,  0.06690545],\n",
              "       [-0.39746276, -1.39824844, -0.33889981,  0.06690545],\n",
              "       [-0.39746276, -1.39824844, -0.33889981,  0.06690545],\n",
              "       [ 1.15786263, -1.87719494,  1.58076443,  0.55831184],\n",
              "       [ 1.32439592, -1.50520635,  1.07709711, -0.57287131],\n",
              "       [ 1.32439592, -1.50520635,  1.07709711, -0.57287131],\n",
              "       [ 2.21321952,  0.97878547, -1.17827723,  0.31221463],\n",
              "       [ 2.21321952,  0.97878547, -1.17827723,  0.31221463],\n",
              "       [ 2.21321952,  0.97878547, -1.17827723,  0.31221463],\n",
              "       [-1.46204481,  1.22532315,  1.47553954,  1.10938102],\n",
              "       [-1.46204481,  1.22532315,  1.47553954,  1.10938102],\n",
              "       [-1.29551152,  1.59731174,  0.97187222, -0.02180214],\n",
              "       [-1.38171102,  0.73170842,  0.61545289,  2.33681074],\n",
              "       [-1.38171102,  0.73170842,  0.61545289,  2.33681074],\n",
              "       [-1.94571421,  1.10392727, -0.61722499,  0.21474009],\n",
              "       [-1.94571421,  1.10392727, -0.61722499,  0.21474009],\n",
              "       [ 0.85073559, -0.16459818,  0.77128349,  1.23471325],\n",
              "       [ 0.94861056,  0.24660995,  0.0746928 ,  0.12471923],\n",
              "       [ 0.94861056,  0.24660995,  0.0746928 ,  0.12471923],\n",
              "       [-0.48571664, -0.24446307,  0.17763798,  1.46621431],\n",
              "       [-0.48571664, -0.24446307,  0.17763798,  1.46621431],\n",
              "       [-0.48571664, -0.24446307,  0.17763798,  1.46621431],\n",
              "       [-1.29453253, -1.77000677, -0.56424304,  0.2072011 ],\n",
              "       [-1.29453253, -1.77000677, -0.56424304,  0.2072011 ],\n",
              "       [ 1.16803282,  0.69612375,  1.99828069, -1.22696572],\n",
              "       [-1.30568171, -0.97600695,  0.55435596,  1.76347542],\n",
              "       [-1.2274023 ,  0.54976702,  0.56722643,  2.03160112],\n",
              "       [ 0.87033115, -1.27916402,  0.06182233, -0.14340648],\n",
              "       [ 1.66677851, -0.88690935, -0.53524694, -0.15398106],\n",
              "       [ 1.66677851, -0.88690935, -0.53524694, -0.15398106],\n",
              "       [-0.39746276, -1.39824844, -0.33889981,  0.06690545],\n",
              "       [-0.39746276, -1.39824844, -0.33889981,  0.06690545],\n",
              "       [-0.39746276, -1.39824844, -0.33889981,  0.06690545],\n",
              "       [ 1.40267533,  0.02056761,  1.08996758, -0.30474561],\n",
              "       [ 1.32439592, -1.50520635,  1.07709711, -0.57287131],\n",
              "       [ 1.15786263, -1.87719494,  1.58076443,  0.55831184],\n",
              "       [ 2.21321952,  0.97878547, -1.17827723,  0.31221463],\n",
              "       [ 2.52749415,  1.21258184, -1.6477174 ,  0.45689013],\n",
              "       [ 2.52749415,  1.21258184, -1.6477174 ,  0.45689013],\n",
              "       [-1.29551152,  1.59731174,  0.97187222, -0.02180214],\n",
              "       [-2.14543059,  1.70114663,  0.15267806, -1.33432627],\n",
              "       [-1.29551152,  1.59731174,  0.97187222, -0.02180214],\n",
              "       [-1.94571421,  1.10392727, -0.61722499,  0.21474009],\n",
              "       [-1.79140549,  0.92198587, -0.66545145, -0.09046953],\n",
              "       [-1.79140549,  0.92198587, -0.66545145, -0.09046953],\n",
              "       [ 1.74505792,  0.63886462, -0.52237647,  0.11414465],\n",
              "       [ 0.94861056,  0.24660995,  0.0746928 ,  0.12471923],\n",
              "       [ 0.94861056,  0.24660995,  0.0746928 ,  0.12471923],\n",
              "       [-0.31918335,  0.12752552, -0.32602934,  0.33503115],\n",
              "       [-1.04971983,  0.12775578, -1.05503989, -0.65585635],\n",
              "       [-0.31918335,  0.12752552, -0.32602934,  0.33503115],\n",
              "       [-1.12799924, -1.39801818, -1.06791036, -0.92398205],\n",
              "       [-1.12799924, -1.39801818, -1.06791036, -0.92398205],\n",
              "       [-1.12799924, -1.39801818, -1.06791036, -0.92398205],\n",
              "       [-1.2274023 ,  0.54976702,  0.56722643,  2.03160112],\n",
              "       [-1.2274023 ,  0.54976702,  0.56722643,  2.03160112],\n",
              "       [-1.06086901,  0.92175561,  0.06355911,  0.90041797],\n",
              "       [-0.56399605, -1.77023703,  0.16476751,  1.1980886 ],\n",
              "       [-0.56399605, -1.77023703,  0.16476751,  1.1980886 ],\n",
              "       [-0.39746276, -1.39824844, -0.33889981,  0.06690545],\n",
              "       [-0.39746276, -1.39824844, -0.33889981,  0.06690545],\n",
              "       [ 1.15786263, -1.87719494,  1.58076443,  0.55831184],\n",
              "       [ 1.15786263, -1.87719494,  1.58076443,  0.55831184],\n",
              "       [ 1.40267533,  0.02056761,  1.08996758, -0.30474561]])"
            ]
          },
          "metadata": {},
          "execution_count": 58
        }
      ]
    },
    {
      "cell_type": "code",
      "source": [
        "print(scores.index)"
      ],
      "metadata": {
        "colab": {
          "base_uri": "https://localhost:8080/"
        },
        "id": "nAA-VPVK7uK8",
        "outputId": "6500850f-7361-4e98-b2ea-a297fa053b2f"
      },
      "execution_count": 59,
      "outputs": [
        {
          "output_type": "stream",
          "name": "stdout",
          "text": [
            "Index(['angry', 'angry', 'angry', 'angry', 'angry', 'angry', 'angry', 'angry',\n",
            "       'angry', 'angry',\n",
            "       ...\n",
            "       'surprised', 'surprised', 'surprised', 'surprised', 'surprised',\n",
            "       'surprised', 'surprised', 'surprised', 'surprised', 'surprised'],\n",
            "      dtype='object', name='emo/dim', length=146)\n"
          ]
        }
      ]
    },
    {
      "cell_type": "code",
      "source": [
        "x.shape"
      ],
      "metadata": {
        "colab": {
          "base_uri": "https://localhost:8080/"
        },
        "id": "ZVJ_XArOM2PF",
        "outputId": "ed94ff85-f349-475d-b257-839144c005b4"
      },
      "execution_count": 60,
      "outputs": [
        {
          "output_type": "execute_result",
          "data": {
            "text/plain": [
              "(146, 4)"
            ]
          },
          "metadata": {},
          "execution_count": 60
        }
      ]
    },
    {
      "cell_type": "code",
      "source": [
        "y = np.ndarray((146,4), dtype=np.float32)\n",
        "for i, xx in enumerate(x):\n",
        "  for j, xxx in enumerate(xx):\n",
        "    y[i,j] = xxx + i/100\n"
      ],
      "metadata": {
        "id": "TWbVIuDNNaYD"
      },
      "execution_count": 61,
      "outputs": []
    },
    {
      "cell_type": "code",
      "source": [
        "y.shape"
      ],
      "metadata": {
        "colab": {
          "base_uri": "https://localhost:8080/"
        },
        "id": "74TMVw_9NaMU",
        "outputId": "19996f58-1189-47f3-fdc7-e8b0917a652e"
      },
      "execution_count": 62,
      "outputs": [
        {
          "output_type": "execute_result",
          "data": {
            "text/plain": [
              "(146, 4)"
            ]
          },
          "metadata": {},
          "execution_count": 62
        }
      ]
    },
    {
      "cell_type": "code",
      "source": [],
      "metadata": {
        "id": "LJTwm1D3NZta"
      },
      "execution_count": null,
      "outputs": []
    },
    {
      "cell_type": "code",
      "source": [
        "import seaborn as sns\n",
        "plt.figure(figsize=(10,10))\n",
        "plt.grid(True)\n",
        "sns.scatterplot(y[:,2], y[:,3], hue=scores.index, data=scores, s=20)"
      ],
      "metadata": {
        "colab": {
          "base_uri": "https://localhost:8080/",
          "height": 666
        },
        "id": "T8YGrPc5_om1",
        "outputId": "2c6a2321-5bdc-436a-aaee-09e4960bb2ef"
      },
      "execution_count": 70,
      "outputs": [
        {
          "output_type": "stream",
          "name": "stderr",
          "text": [
            "/usr/local/lib/python3.8/dist-packages/seaborn/_decorators.py:36: FutureWarning: Pass the following variables as keyword args: x, y. From version 0.12, the only valid positional argument will be `data`, and passing other arguments without an explicit keyword will result in an error or misinterpretation.\n",
            "  warnings.warn(\n"
          ]
        },
        {
          "output_type": "execute_result",
          "data": {
            "text/plain": [
              "<matplotlib.axes._subplots.AxesSubplot at 0x7f2993366940>"
            ]
          },
          "metadata": {},
          "execution_count": 70
        },
        {
          "output_type": "display_data",
          "data": {
            "text/plain": [
              "<Figure size 720x720 with 1 Axes>"
            ],
            "image/png": "[encoded data removed]"
          },
          "metadata": {
            "needs_background": "light"
          }
        }
      ]
    },
    {
      "cell_type": "code",
      "source": [],
      "metadata": {
        "id": "A9qQw57oJ5Vl"
      },
      "execution_count": null,
      "outputs": []
    },
    {
      "cell_type": "code",
      "metadata": {
        "id": "FJlAxzCRQ1j6",
        "colab": {
          "base_uri": "https://localhost:8080/",
          "height": 280
        },
        "outputId": "3d7f608c-4e2e-4850-9168-4e5c8180d805"
      },
      "source": [
        "plt.scatter(x[:,0], x[:,1])\n",
        "plt.xlabel(\"PC1\")\n",
        "plt.ylabel(\"PC2\")\n",
        "for d, l in zip(x, scores.index.values):\n",
        "  plt.text(d[0], d[1], l)"
      ],
      "execution_count": null,
      "outputs": [
        {
          "output_type": "display_data",
          "data": {
            "text/plain": [
              "<Figure size 432x288 with 1 Axes>"
            ],
            "image/png": "[encoded data removed]"
          },
          "metadata": {
            "needs_background": "light"
          }
        }
      ]
    }
  ]
}